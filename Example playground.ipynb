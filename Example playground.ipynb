{
 "cells": [
  {
   "cell_type": "code",
   "execution_count": 2,
   "id": "acd0a874",
   "metadata": {},
   "outputs": [],
   "source": [
    "from nltk.corpus import conll2002 as conll\n",
    "from custom_chunker import ConsecutiveNPChunker\n",
    "from features import test_features"
   ]
  },
  {
   "cell_type": "code",
   "execution_count": 3,
   "id": "f2c2a56c",
   "metadata": {},
   "outputs": [],
   "source": [
    "# Load training data\n",
    "training = conll.chunked_sents(\"ned.train\")"
   ]
  },
  {
   "cell_type": "code",
   "execution_count": 5,
   "id": "0866d9ca",
   "metadata": {},
   "outputs": [],
   "source": [
    "# Create model by passing a feature function, and the training data\n",
    "ner = ConsecutiveNPChunker(test_features, training)"
   ]
  },
  {
   "cell_type": "code",
   "execution_count": 6,
   "id": "76c29fd4",
   "metadata": {},
   "outputs": [
    {
     "name": "stdout",
     "output_type": "stream",
     "text": [
      "Most Informative Features\n",
      "                     pos = 'Prep'              O : B-LOC  =    236.4 : 1.0\n",
      "           whole history = ('B-MISC',)    I-MISC : B-MISC =    171.9 : 1.0\n",
      "                     pos = 'Adv'           I-ORG : B-LOC  =    127.0 : 1.0\n",
      "                     pos = 'Punc'              O : I-PER  =    122.4 : 1.0\n",
      "                     pos = 'Adj'          B-MISC : I-LOC  =    106.6 : 1.0\n",
      "                     pos = 'Art'           B-ORG : B-LOC  =     83.5 : 1.0\n",
      "           whole history = ('B-PER', 'I-PER', 'O')  B-LOC : B-MISC =     82.4 : 1.0\n",
      "                     pos = 'Pron'              O : B-ORG  =     67.5 : 1.0\n",
      "                     pos = 'Conj'              O : B-MISC =     67.2 : 1.0\n",
      "                     pos = 'V'                 O : I-PER  =     62.9 : 1.0\n"
     ]
    }
   ],
   "source": [
    "# Call any method on the model that you want\n",
    "ner.show_most_informative_features()"
   ]
  },
  {
   "cell_type": "code",
   "execution_count": 7,
   "id": "21cd461b",
   "metadata": {},
   "outputs": [],
   "source": [
    "test = conll.chunked_sents(\"ned.testa\")"
   ]
  },
  {
   "cell_type": "code",
   "execution_count": 9,
   "id": "ffa1c587",
   "metadata": {},
   "outputs": [
    {
     "name": "stdout",
     "output_type": "stream",
     "text": [
      "ChunkParse score:\n",
      "    IOB Accuracy:  90.1%%\n",
      "    Precision:      0.0%%\n",
      "    Recall:         0.0%%\n",
      "    F-Measure:      0.0%%\n"
     ]
    }
   ],
   "source": [
    "print(ner.accuracy(test))"
   ]
  }
 ],
 "metadata": {
  "kernelspec": {
   "display_name": "Python 3 (ipykernel)",
   "language": "python",
   "name": "python3"
  },
  "language_info": {
   "codemirror_mode": {
    "name": "ipython",
    "version": 3
   },
   "file_extension": ".py",
   "mimetype": "text/x-python",
   "name": "python",
   "nbconvert_exporter": "python",
   "pygments_lexer": "ipython3",
   "version": "3.7.3"
  }
 },
 "nbformat": 4,
 "nbformat_minor": 5
}
